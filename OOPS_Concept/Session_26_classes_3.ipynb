{
 "cells": [
  {
   "cell_type": "code",
   "execution_count": 3,
   "metadata": {},
   "outputs": [],
   "source": [
    "class visitor:\n",
    "    def __init__(self,firstname,lastname,mobile):\n",
    "        self.firstname=firstname\n",
    "        self.lastname=lastname\n",
    "        self.mobile=mobile\n",
    "    #instance_method: getter\n",
    "    def get_fullname(self):\n",
    "        return self.firstname+\" \"+self.lastname\n",
    "    #instance_method: setter\n",
    "    def set_mobile(self,updated_mobile):\n",
    "        self.mobile=updated_mobile"
   ]
  },
  {
   "cell_type": "code",
   "execution_count": 4,
   "metadata": {},
   "outputs": [],
   "source": [
    "class emp(visitor):\n",
    "    pass"
   ]
  },
  {
   "cell_type": "code",
   "execution_count": 5,
   "metadata": {},
   "outputs": [
    {
     "name": "stdout",
     "output_type": "stream",
     "text": [
      "Help on class emp in module __main__:\n",
      "\n",
      "class emp(visitor)\n",
      " |  emp(firstname, lastname, mobile)\n",
      " |  \n",
      " |  Method resolution order:\n",
      " |      emp\n",
      " |      visitor\n",
      " |      builtins.object\n",
      " |  \n",
      " |  Methods inherited from visitor:\n",
      " |  \n",
      " |  __init__(self, firstname, lastname, mobile)\n",
      " |      Initialize self.  See help(type(self)) for accurate signature.\n",
      " |  \n",
      " |  get_fullname(self)\n",
      " |      #instance_method: getter\n",
      " |  \n",
      " |  set_mobile(self, updated_mobile)\n",
      " |      #instance_method: setter\n",
      " |  \n",
      " |  ----------------------------------------------------------------------\n",
      " |  Data descriptors inherited from visitor:\n",
      " |  \n",
      " |  __dict__\n",
      " |      dictionary for instance variables (if defined)\n",
      " |  \n",
      " |  __weakref__\n",
      " |      list of weak references to the object (if defined)\n",
      "\n"
     ]
    }
   ],
   "source": [
    "help(emp)"
   ]
  },
  {
   "cell_type": "code",
   "execution_count": 8,
   "metadata": {},
   "outputs": [],
   "source": [
    "jack=emp(firstname=\"jack\",lastname=\"xyz\",mobile=11111)"
   ]
  },
  {
   "cell_type": "code",
   "execution_count": 9,
   "metadata": {},
   "outputs": [
    {
     "data": {
      "text/plain": [
       "{'firstname': 'jack', 'lastname': 'xyz', 'mobile': 11111}"
      ]
     },
     "execution_count": 9,
     "metadata": {},
     "output_type": "execute_result"
    }
   ],
   "source": [
    "jack.__dict__"
   ]
  },
  {
   "cell_type": "code",
   "execution_count": 10,
   "metadata": {},
   "outputs": [],
   "source": [
    "class emp(visitor):\n",
    "    def __init__(self,title):\n",
    "        self.jobtitle=title"
   ]
  },
  {
   "cell_type": "code",
   "execution_count": 12,
   "metadata": {},
   "outputs": [
    {
     "ename": "TypeError",
     "evalue": "__init__() got an unexpected keyword argument 'firstname'",
     "output_type": "error",
     "traceback": [
      "\u001b[1;31m---------------------------------------------------------------------------\u001b[0m",
      "\u001b[1;31mTypeError\u001b[0m                                 Traceback (most recent call last)",
      "\u001b[1;32m<ipython-input-12-f3a263c311b0>\u001b[0m in \u001b[0;36m<module>\u001b[1;34m\u001b[0m\n\u001b[1;32m----> 1\u001b[1;33m \u001b[0mjack\u001b[0m\u001b[1;33m=\u001b[0m\u001b[0memp\u001b[0m\u001b[1;33m(\u001b[0m\u001b[0mfirstname\u001b[0m\u001b[1;33m=\u001b[0m\u001b[1;34m\"jack\"\u001b[0m\u001b[1;33m,\u001b[0m\u001b[0mlastname\u001b[0m\u001b[1;33m=\u001b[0m\u001b[1;34m\"xyz\"\u001b[0m\u001b[1;33m,\u001b[0m\u001b[0mmobile\u001b[0m\u001b[1;33m=\u001b[0m\u001b[1;36m11111\u001b[0m\u001b[1;33m,\u001b[0m\u001b[0mtitle\u001b[0m\u001b[1;33m=\u001b[0m\u001b[1;34m\"manager\"\u001b[0m\u001b[1;33m)\u001b[0m\u001b[1;33m\u001b[0m\u001b[1;33m\u001b[0m\u001b[0m\n\u001b[0m",
      "\u001b[1;31mTypeError\u001b[0m: __init__() got an unexpected keyword argument 'firstname'"
     ]
    }
   ],
   "source": [
    "jack=emp(firstname=\"jack\",lastname=\"xyz\",mobile=11111,title=\"manager\")"
   ]
  },
  {
   "cell_type": "code",
   "execution_count": 13,
   "metadata": {},
   "outputs": [],
   "source": [
    "class emp(visitor):\n",
    "    def __init__(self,firstname,lastname,mobile,title):\n",
    "        super().__init__(firstname,lastname,mobile)\n",
    "        self.jobtitle=title"
   ]
  },
  {
   "cell_type": "code",
   "execution_count": 14,
   "metadata": {},
   "outputs": [],
   "source": [
    "jack=emp(firstname=\"jack\",lastname=\"xyz\",mobile=11111,title=\"manager\")"
   ]
  },
  {
   "cell_type": "code",
   "execution_count": 15,
   "metadata": {},
   "outputs": [
    {
     "data": {
      "text/plain": [
       "'jack xyz'"
      ]
     },
     "execution_count": 15,
     "metadata": {},
     "output_type": "execute_result"
    }
   ],
   "source": [
    "jack.get_fullname()"
   ]
  },
  {
   "cell_type": "code",
   "execution_count": 28,
   "metadata": {},
   "outputs": [],
   "source": [
    "class emp(visitor):\n",
    "    def __init__(self,firstname,lastname,mobile,title):\n",
    "        super().__init__(firstname,lastname,mobile)\n",
    "        self.jobtitle=title\n",
    "    def set_title(self,updated_title):\n",
    "        self.jobtitle=updated_title"
   ]
  },
  {
   "cell_type": "code",
   "execution_count": 29,
   "metadata": {},
   "outputs": [],
   "source": [
    "jack=emp(firstname=\"jack\",lastname=\"xyz\",mobile=11111,title=\"manager\")"
   ]
  },
  {
   "cell_type": "code",
   "execution_count": 30,
   "metadata": {},
   "outputs": [
    {
     "data": {
      "text/plain": [
       "{'firstname': 'jack',\n",
       " 'lastname': 'xyz',\n",
       " 'mobile': 11111,\n",
       " 'jobtitle': 'manager'}"
      ]
     },
     "execution_count": 30,
     "metadata": {},
     "output_type": "execute_result"
    }
   ],
   "source": [
    "jack.__dict__"
   ]
  },
  {
   "cell_type": "code",
   "execution_count": 31,
   "metadata": {},
   "outputs": [],
   "source": [
    "jack.set_title(\"executive\")"
   ]
  },
  {
   "cell_type": "code",
   "execution_count": 32,
   "metadata": {},
   "outputs": [
    {
     "data": {
      "text/plain": [
       "{'firstname': 'jack',\n",
       " 'lastname': 'xyz',\n",
       " 'mobile': 11111,\n",
       " 'jobtitle': 'executive'}"
      ]
     },
     "execution_count": 32,
     "metadata": {},
     "output_type": "execute_result"
    }
   ],
   "source": [
    "jack.__dict__"
   ]
  },
  {
   "cell_type": "code",
   "execution_count": 35,
   "metadata": {},
   "outputs": [],
   "source": [
    "class visitor:\n",
    "    region=\"INDIA\"\n",
    "    @classmethod\n",
    "    def get_region(cls):\n",
    "        return cls.region\n",
    "    @classmethod\n",
    "    def set_region(cls,updated_region):\n",
    "        cls.region =updated_region"
   ]
  },
  {
   "cell_type": "code",
   "execution_count": 36,
   "metadata": {},
   "outputs": [
    {
     "data": {
      "text/plain": [
       "'INDIA'"
      ]
     },
     "execution_count": 36,
     "metadata": {},
     "output_type": "execute_result"
    }
   ],
   "source": [
    "visitor.get_region()"
   ]
  },
  {
   "cell_type": "code",
   "execution_count": 38,
   "metadata": {},
   "outputs": [],
   "source": [
    "visitor.set_region(\"JAPAN\")"
   ]
  },
  {
   "cell_type": "code",
   "execution_count": 39,
   "metadata": {},
   "outputs": [
    {
     "data": {
      "text/plain": [
       "'JAPAN'"
      ]
     },
     "execution_count": 39,
     "metadata": {},
     "output_type": "execute_result"
    }
   ],
   "source": [
    "visitor.get_region()"
   ]
  },
  {
   "cell_type": "code",
   "execution_count": null,
   "metadata": {},
   "outputs": [],
   "source": []
  }
 ],
 "metadata": {
  "kernelspec": {
   "display_name": "Python 3",
   "language": "python",
   "name": "python3"
  },
  "language_info": {
   "codemirror_mode": {
    "name": "ipython",
    "version": 3
   },
   "file_extension": ".py",
   "mimetype": "text/x-python",
   "name": "python",
   "nbconvert_exporter": "python",
   "pygments_lexer": "ipython3",
   "version": "3.8.3"
  }
 },
 "nbformat": 4,
 "nbformat_minor": 4
}
